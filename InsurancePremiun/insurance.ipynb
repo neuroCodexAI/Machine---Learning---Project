{
 "cells": [
  {
   "cell_type": "code",
   "execution_count": 52,
   "id": "2bc80680",
   "metadata": {},
   "outputs": [],
   "source": [
    "import pandas as pd\n",
    "from sklearn.ensemble import RandomForestClassifier\n",
    "from sklearn.model_selection import train_test_split\n",
    "from sklearn.preprocessing import OneHotEncoder\n",
    "from sklearn.pipeline import Pipeline\n",
    "from sklearn.compose import ColumnTransformer\n",
    "from sklearn.metrics import classification_report, accuracy_score\n",
    "import numpy as np"
   ]
  },
  {
   "cell_type": "code",
   "execution_count": 53,
   "id": "8c6e552c",
   "metadata": {},
   "outputs": [],
   "source": [
    "df = pd.read_csv('insurance.csv')"
   ]
  },
  {
   "cell_type": "code",
   "execution_count": 54,
   "id": "c6e01bf7",
   "metadata": {},
   "outputs": [
    {
     "data": {
      "text/html": [
       "<div>\n",
       "<style scoped>\n",
       "    .dataframe tbody tr th:only-of-type {\n",
       "        vertical-align: middle;\n",
       "    }\n",
       "\n",
       "    .dataframe tbody tr th {\n",
       "        vertical-align: top;\n",
       "    }\n",
       "\n",
       "    .dataframe thead th {\n",
       "        text-align: right;\n",
       "    }\n",
       "</style>\n",
       "<table border=\"1\" class=\"dataframe\">\n",
       "  <thead>\n",
       "    <tr style=\"text-align: right;\">\n",
       "      <th></th>\n",
       "      <th>age</th>\n",
       "      <th>weight</th>\n",
       "      <th>height</th>\n",
       "      <th>income_lpa</th>\n",
       "      <th>smoker</th>\n",
       "      <th>city</th>\n",
       "      <th>occupation</th>\n",
       "      <th>insurance_premium_category</th>\n",
       "    </tr>\n",
       "  </thead>\n",
       "  <tbody>\n",
       "    <tr>\n",
       "      <th>80</th>\n",
       "      <td>56</td>\n",
       "      <td>95.8</td>\n",
       "      <td>1.67</td>\n",
       "      <td>50.00</td>\n",
       "      <td>False</td>\n",
       "      <td>Jalandhar</td>\n",
       "      <td>unemployed</td>\n",
       "      <td>High</td>\n",
       "    </tr>\n",
       "    <tr>\n",
       "      <th>51</th>\n",
       "      <td>45</td>\n",
       "      <td>101.9</td>\n",
       "      <td>1.62</td>\n",
       "      <td>28.95</td>\n",
       "      <td>True</td>\n",
       "      <td>Jaipur</td>\n",
       "      <td>private_job</td>\n",
       "      <td>High</td>\n",
       "    </tr>\n",
       "    <tr>\n",
       "      <th>97</th>\n",
       "      <td>52</td>\n",
       "      <td>60.8</td>\n",
       "      <td>1.80</td>\n",
       "      <td>44.86</td>\n",
       "      <td>False</td>\n",
       "      <td>Hyderabad</td>\n",
       "      <td>freelancer</td>\n",
       "      <td>Low</td>\n",
       "    </tr>\n",
       "    <tr>\n",
       "      <th>26</th>\n",
       "      <td>33</td>\n",
       "      <td>79.0</td>\n",
       "      <td>1.61</td>\n",
       "      <td>23.61</td>\n",
       "      <td>False</td>\n",
       "      <td>Jaipur</td>\n",
       "      <td>freelancer</td>\n",
       "      <td>Medium</td>\n",
       "    </tr>\n",
       "    <tr>\n",
       "      <th>6</th>\n",
       "      <td>19</td>\n",
       "      <td>80.1</td>\n",
       "      <td>1.68</td>\n",
       "      <td>3.59</td>\n",
       "      <td>True</td>\n",
       "      <td>Hyderabad</td>\n",
       "      <td>student</td>\n",
       "      <td>Medium</td>\n",
       "    </tr>\n",
       "  </tbody>\n",
       "</table>\n",
       "</div>"
      ],
      "text/plain": [
       "    age  weight  height  income_lpa  smoker       city   occupation  \\\n",
       "80   56    95.8    1.67       50.00   False  Jalandhar   unemployed   \n",
       "51   45   101.9    1.62       28.95    True     Jaipur  private_job   \n",
       "97   52    60.8    1.80       44.86   False  Hyderabad   freelancer   \n",
       "26   33    79.0    1.61       23.61   False     Jaipur   freelancer   \n",
       "6    19    80.1    1.68        3.59    True  Hyderabad      student   \n",
       "\n",
       "   insurance_premium_category  \n",
       "80                       High  \n",
       "51                       High  \n",
       "97                        Low  \n",
       "26                     Medium  \n",
       "6                      Medium  "
      ]
     },
     "execution_count": 54,
     "metadata": {},
     "output_type": "execute_result"
    }
   ],
   "source": [
    "df.sample(5)"
   ]
  },
  {
   "cell_type": "code",
   "execution_count": 55,
   "id": "35b901fc",
   "metadata": {},
   "outputs": [],
   "source": [
    "# copy data set \n",
    "df_feat = df.copy()"
   ]
  },
  {
   "cell_type": "code",
   "execution_count": 56,
   "id": "ce3d2092",
   "metadata": {},
   "outputs": [],
   "source": [
    "# Feature 1 : BMI \n",
    "df_feat['bmi'] = df_feat['weight']/(df['height']**2)"
   ]
  },
  {
   "cell_type": "code",
   "execution_count": 57,
   "id": "997cc2bf",
   "metadata": {},
   "outputs": [],
   "source": [
    "# Feature 2 : Age Group \n",
    "def age_group(age):\n",
    "    if age < 25:\n",
    "        return 'young'\n",
    "    elif age < 45:\n",
    "        return 'adult'\n",
    "    elif age < 60:\n",
    "        return 'middle_aged'\n",
    "    return 'senior'"
   ]
  },
  {
   "cell_type": "code",
   "execution_count": 58,
   "id": "0541043c",
   "metadata": {},
   "outputs": [],
   "source": [
    "df_feat['age_group'] = df_feat['age'].apply(age_group)"
   ]
  },
  {
   "cell_type": "code",
   "execution_count": 59,
   "id": "3b8b57a0",
   "metadata": {},
   "outputs": [],
   "source": [
    "# Feature 3: Lifestyle risk \n",
    "def lifestyle_risk(row):\n",
    "    if row['smoker'] and row['bmi'] > 30:\n",
    "        return 'high'\n",
    "    elif row['smoker'] or row ['bmi'] > 27:\n",
    "        return 'medium'\n",
    "    else:\n",
    "        return 'low'\n",
    "    "
   ]
  },
  {
   "cell_type": "code",
   "execution_count": 60,
   "id": "78c36de6",
   "metadata": {},
   "outputs": [],
   "source": [
    "df_feat['lifestyle_risk'] = df_feat.apply(lifestyle_risk, axis = 1)"
   ]
  },
  {
   "cell_type": "code",
   "execution_count": 61,
   "id": "97957907",
   "metadata": {},
   "outputs": [],
   "source": [
    "tier_1_cities = [\"Mumbai\", \"Delhi\", \"Bangalore\", \"Chennai\", \"Kolkata\", \"Hyderabad\", \"Pune\"]\n",
    "tier_2_cities = [\n",
    "    \"Jaipur\", \"Chandigarh\", \"Indore\", \"Lucknow\", \"Patna\", \"Ranchi\", \"Visakhapatnam\", \"Coimbatore\",\n",
    "    \"Bhopal\", \"Nagpur\", \"Vadodara\", \"Surat\", \"Rajkot\", \"Jodhpur\", \"Raipur\", \"Amritsar\", \"Varanasi\",\n",
    "    \"Agra\", \"Dehradun\", \"Mysore\", \"Jabalpur\", \"Guwahati\", \"Thiruvananthapuram\", \"Ludhiana\", \"Nashik\",\n",
    "    \"Allahabad\", \"Udaipur\", \"Aurangabad\", \"Hubli\", \"Belgaum\", \"Salem\", \"Vijayawada\", \"Tiruchirappalli\",\n",
    "    \"Bhavnagar\", \"Gwalior\", \"Dhanbad\", \"Bareilly\", \"Aligarh\", \"Gaya\", \"Kozhikode\", \"Warangal\",\n",
    "    \"Kolhapur\", \"Bilaspur\", \"Jalandhar\", \"Noida\", \"Guntur\", \"Asansol\", \"Siliguri\"\n",
    "]"
   ]
  },
  {
   "cell_type": "code",
   "execution_count": 62,
   "id": "7d3b1489",
   "metadata": {},
   "outputs": [],
   "source": [
    "#Feature 4 : city tier \n",
    "def city_tier(city):\n",
    "    if city in tier_1_cities:\n",
    "        return 1\n",
    "    elif city in tier_2_cities:\n",
    "        return 2\n",
    "    else:\n",
    "        return 3\n"
   ]
  },
  {
   "cell_type": "code",
   "execution_count": 63,
   "id": "de3b5024",
   "metadata": {},
   "outputs": [],
   "source": [
    "df_feat['city_tier'] = df_feat['city'].apply(city_tier)"
   ]
  },
  {
   "cell_type": "code",
   "execution_count": 64,
   "id": "5268f237",
   "metadata": {},
   "outputs": [
    {
     "data": {
      "text/html": [
       "<div>\n",
       "<style scoped>\n",
       "    .dataframe tbody tr th:only-of-type {\n",
       "        vertical-align: middle;\n",
       "    }\n",
       "\n",
       "    .dataframe tbody tr th {\n",
       "        vertical-align: top;\n",
       "    }\n",
       "\n",
       "    .dataframe thead th {\n",
       "        text-align: right;\n",
       "    }\n",
       "</style>\n",
       "<table border=\"1\" class=\"dataframe\">\n",
       "  <thead>\n",
       "    <tr style=\"text-align: right;\">\n",
       "      <th></th>\n",
       "      <th>income_lpa</th>\n",
       "      <th>occupation</th>\n",
       "      <th>bmi</th>\n",
       "      <th>age_group</th>\n",
       "      <th>lifestyle_risk</th>\n",
       "      <th>city_tier</th>\n",
       "      <th>insurance_premium_category</th>\n",
       "    </tr>\n",
       "  </thead>\n",
       "  <tbody>\n",
       "    <tr>\n",
       "      <th>61</th>\n",
       "      <td>24.05</td>\n",
       "      <td>unemployed</td>\n",
       "      <td>36.281179</td>\n",
       "      <td>adult</td>\n",
       "      <td>high</td>\n",
       "      <td>2</td>\n",
       "      <td>High</td>\n",
       "    </tr>\n",
       "    <tr>\n",
       "      <th>40</th>\n",
       "      <td>40.19</td>\n",
       "      <td>unemployed</td>\n",
       "      <td>24.349609</td>\n",
       "      <td>adult</td>\n",
       "      <td>medium</td>\n",
       "      <td>1</td>\n",
       "      <td>Medium</td>\n",
       "    </tr>\n",
       "    <tr>\n",
       "      <th>71</th>\n",
       "      <td>20.25</td>\n",
       "      <td>unemployed</td>\n",
       "      <td>16.513537</td>\n",
       "      <td>adult</td>\n",
       "      <td>low</td>\n",
       "      <td>2</td>\n",
       "      <td>Low</td>\n",
       "    </tr>\n",
       "    <tr>\n",
       "      <th>4</th>\n",
       "      <td>3.94</td>\n",
       "      <td>retired</td>\n",
       "      <td>24.296875</td>\n",
       "      <td>senior</td>\n",
       "      <td>medium</td>\n",
       "      <td>2</td>\n",
       "      <td>High</td>\n",
       "    </tr>\n",
       "    <tr>\n",
       "      <th>76</th>\n",
       "      <td>1.12</td>\n",
       "      <td>retired</td>\n",
       "      <td>44.044444</td>\n",
       "      <td>senior</td>\n",
       "      <td>medium</td>\n",
       "      <td>2</td>\n",
       "      <td>High</td>\n",
       "    </tr>\n",
       "  </tbody>\n",
       "</table>\n",
       "</div>"
      ],
      "text/plain": [
       "    income_lpa  occupation        bmi age_group lifestyle_risk  city_tier  \\\n",
       "61       24.05  unemployed  36.281179     adult           high          2   \n",
       "40       40.19  unemployed  24.349609     adult         medium          1   \n",
       "71       20.25  unemployed  16.513537     adult            low          2   \n",
       "4         3.94     retired  24.296875    senior         medium          2   \n",
       "76        1.12     retired  44.044444    senior         medium          2   \n",
       "\n",
       "   insurance_premium_category  \n",
       "61                       High  \n",
       "40                     Medium  \n",
       "71                        Low  \n",
       "4                        High  \n",
       "76                       High  "
      ]
     },
     "execution_count": 64,
     "metadata": {},
     "output_type": "execute_result"
    }
   ],
   "source": [
    "df_feat.drop(columns=['age', 'weight', 'height', 'city', 'smoker'])[['income_lpa', 'occupation', 'bmi', 'age_group', 'lifestyle_risk', 'city_tier', 'insurance_premium_category']].sample(5)\n",
    "     "
   ]
  },
  {
   "cell_type": "code",
   "execution_count": 73,
   "id": "a789d2c7",
   "metadata": {},
   "outputs": [],
   "source": [
    "# Select feature and target \n",
    "X = df_feat[['bmi', 'age_group', 'lifestyle_risk', 'city_tier', 'income_lpa', 'occupation']]\n",
    "y = df['insurance_premium_category']"
   ]
  },
  {
   "cell_type": "code",
   "execution_count": 80,
   "id": "ff9d07bb",
   "metadata": {},
   "outputs": [
    {
     "data": {
      "text/html": [
       "<div>\n",
       "<style scoped>\n",
       "    .dataframe tbody tr th:only-of-type {\n",
       "        vertical-align: middle;\n",
       "    }\n",
       "\n",
       "    .dataframe tbody tr th {\n",
       "        vertical-align: top;\n",
       "    }\n",
       "\n",
       "    .dataframe thead th {\n",
       "        text-align: right;\n",
       "    }\n",
       "</style>\n",
       "<table border=\"1\" class=\"dataframe\">\n",
       "  <thead>\n",
       "    <tr style=\"text-align: right;\">\n",
       "      <th></th>\n",
       "      <th>bmi</th>\n",
       "      <th>age_group</th>\n",
       "      <th>lifestyle_risk</th>\n",
       "      <th>city_tier</th>\n",
       "      <th>income_lpa</th>\n",
       "      <th>occupation</th>\n",
       "    </tr>\n",
       "  </thead>\n",
       "  <tbody>\n",
       "    <tr>\n",
       "      <th>0</th>\n",
       "      <td>49.227482</td>\n",
       "      <td>senior</td>\n",
       "      <td>medium</td>\n",
       "      <td>2</td>\n",
       "      <td>2.92000</td>\n",
       "      <td>retired</td>\n",
       "    </tr>\n",
       "    <tr>\n",
       "      <th>1</th>\n",
       "      <td>30.189017</td>\n",
       "      <td>adult</td>\n",
       "      <td>medium</td>\n",
       "      <td>1</td>\n",
       "      <td>34.28000</td>\n",
       "      <td>freelancer</td>\n",
       "    </tr>\n",
       "    <tr>\n",
       "      <th>2</th>\n",
       "      <td>21.118382</td>\n",
       "      <td>adult</td>\n",
       "      <td>low</td>\n",
       "      <td>2</td>\n",
       "      <td>36.64000</td>\n",
       "      <td>freelancer</td>\n",
       "    </tr>\n",
       "    <tr>\n",
       "      <th>3</th>\n",
       "      <td>45.535900</td>\n",
       "      <td>young</td>\n",
       "      <td>high</td>\n",
       "      <td>1</td>\n",
       "      <td>3.34000</td>\n",
       "      <td>student</td>\n",
       "    </tr>\n",
       "    <tr>\n",
       "      <th>4</th>\n",
       "      <td>24.296875</td>\n",
       "      <td>senior</td>\n",
       "      <td>medium</td>\n",
       "      <td>2</td>\n",
       "      <td>3.94000</td>\n",
       "      <td>retired</td>\n",
       "    </tr>\n",
       "    <tr>\n",
       "      <th>...</th>\n",
       "      <td>...</td>\n",
       "      <td>...</td>\n",
       "      <td>...</td>\n",
       "      <td>...</td>\n",
       "      <td>...</td>\n",
       "      <td>...</td>\n",
       "    </tr>\n",
       "    <tr>\n",
       "      <th>95</th>\n",
       "      <td>21.420747</td>\n",
       "      <td>adult</td>\n",
       "      <td>low</td>\n",
       "      <td>2</td>\n",
       "      <td>19.64000</td>\n",
       "      <td>business_owner</td>\n",
       "    </tr>\n",
       "    <tr>\n",
       "      <th>96</th>\n",
       "      <td>47.984483</td>\n",
       "      <td>adult</td>\n",
       "      <td>medium</td>\n",
       "      <td>1</td>\n",
       "      <td>34.01000</td>\n",
       "      <td>private_job</td>\n",
       "    </tr>\n",
       "    <tr>\n",
       "      <th>97</th>\n",
       "      <td>18.765432</td>\n",
       "      <td>middle_aged</td>\n",
       "      <td>low</td>\n",
       "      <td>1</td>\n",
       "      <td>44.86000</td>\n",
       "      <td>freelancer</td>\n",
       "    </tr>\n",
       "    <tr>\n",
       "      <th>98</th>\n",
       "      <td>30.521676</td>\n",
       "      <td>adult</td>\n",
       "      <td>medium</td>\n",
       "      <td>1</td>\n",
       "      <td>28.30000</td>\n",
       "      <td>business_owner</td>\n",
       "    </tr>\n",
       "    <tr>\n",
       "      <th>99</th>\n",
       "      <td>27.688778</td>\n",
       "      <td>adult</td>\n",
       "      <td>medium</td>\n",
       "      <td>1</td>\n",
       "      <td>28.16664</td>\n",
       "      <td>government_job</td>\n",
       "    </tr>\n",
       "  </tbody>\n",
       "</table>\n",
       "<p>100 rows × 6 columns</p>\n",
       "</div>"
      ],
      "text/plain": [
       "          bmi    age_group lifestyle_risk  city_tier  income_lpa  \\\n",
       "0   49.227482       senior         medium          2     2.92000   \n",
       "1   30.189017        adult         medium          1    34.28000   \n",
       "2   21.118382        adult            low          2    36.64000   \n",
       "3   45.535900        young           high          1     3.34000   \n",
       "4   24.296875       senior         medium          2     3.94000   \n",
       "..        ...          ...            ...        ...         ...   \n",
       "95  21.420747        adult            low          2    19.64000   \n",
       "96  47.984483        adult         medium          1    34.01000   \n",
       "97  18.765432  middle_aged            low          1    44.86000   \n",
       "98  30.521676        adult         medium          1    28.30000   \n",
       "99  27.688778        adult         medium          1    28.16664   \n",
       "\n",
       "        occupation  \n",
       "0          retired  \n",
       "1       freelancer  \n",
       "2       freelancer  \n",
       "3          student  \n",
       "4          retired  \n",
       "..             ...  \n",
       "95  business_owner  \n",
       "96     private_job  \n",
       "97      freelancer  \n",
       "98  business_owner  \n",
       "99  government_job  \n",
       "\n",
       "[100 rows x 6 columns]"
      ]
     },
     "execution_count": 80,
     "metadata": {},
     "output_type": "execute_result"
    }
   ],
   "source": [
    "X"
   ]
  },
  {
   "cell_type": "code",
   "execution_count": 75,
   "id": "c3a5959d",
   "metadata": {},
   "outputs": [
    {
     "data": {
      "text/plain": [
       "0       High\n",
       "1        Low\n",
       "2        Low\n",
       "3     Medium\n",
       "4       High\n",
       "       ...  \n",
       "95       Low\n",
       "96       Low\n",
       "97       Low\n",
       "98       Low\n",
       "99       Low\n",
       "Name: insurance_premium_category, Length: 100, dtype: object"
      ]
     },
     "execution_count": 75,
     "metadata": {},
     "output_type": "execute_result"
    }
   ],
   "source": [
    "y"
   ]
  },
  {
   "cell_type": "code",
   "execution_count": 76,
   "id": "247d815f",
   "metadata": {},
   "outputs": [],
   "source": [
    "# define categorical and numerical feature \n",
    "categorical_feature = ['age_group', 'lifestyle_risk', 'occupation', 'city_tier']\n",
    "numerical_feature = ['bmi', 'income_lpa']"
   ]
  },
  {
   "cell_type": "code",
   "execution_count": 77,
   "id": "37fcb5b0",
   "metadata": {},
   "outputs": [],
   "source": [
    "# Create column transformer for OHE\n",
    "preprocessor = ColumnTransformer(\n",
    "    transformers=[\n",
    "        ('cat', OneHotEncoder(), categorical_feature),\n",
    "        ('num', 'passthrough', numerical_feature)\n",
    "    ]\n",
    ")"
   ]
  },
  {
   "cell_type": "code",
   "execution_count": 78,
   "id": "b8c76350",
   "metadata": {},
   "outputs": [],
   "source": [
    "# Create a pipeline with preprocessing and random forest classifier\n",
    "pipeline = Pipeline(steps=[\n",
    "    ('preprocessr', preprocessor),\n",
    "    ('classifier', RandomForestClassifier(random_state=42))\n",
    "])"
   ]
  },
  {
   "cell_type": "code",
   "execution_count": 79,
   "id": "b5b01761",
   "metadata": {},
   "outputs": [
    {
     "data": {
      "text/html": [
       "<style>#sk-container-id-1 {color: black;}#sk-container-id-1 pre{padding: 0;}#sk-container-id-1 div.sk-toggleable {background-color: white;}#sk-container-id-1 label.sk-toggleable__label {cursor: pointer;display: block;width: 100%;margin-bottom: 0;padding: 0.3em;box-sizing: border-box;text-align: center;}#sk-container-id-1 label.sk-toggleable__label-arrow:before {content: \"▸\";float: left;margin-right: 0.25em;color: #696969;}#sk-container-id-1 label.sk-toggleable__label-arrow:hover:before {color: black;}#sk-container-id-1 div.sk-estimator:hover label.sk-toggleable__label-arrow:before {color: black;}#sk-container-id-1 div.sk-toggleable__content {max-height: 0;max-width: 0;overflow: hidden;text-align: left;background-color: #f0f8ff;}#sk-container-id-1 div.sk-toggleable__content pre {margin: 0.2em;color: black;border-radius: 0.25em;background-color: #f0f8ff;}#sk-container-id-1 input.sk-toggleable__control:checked~div.sk-toggleable__content {max-height: 200px;max-width: 100%;overflow: auto;}#sk-container-id-1 input.sk-toggleable__control:checked~label.sk-toggleable__label-arrow:before {content: \"▾\";}#sk-container-id-1 div.sk-estimator input.sk-toggleable__control:checked~label.sk-toggleable__label {background-color: #d4ebff;}#sk-container-id-1 div.sk-label input.sk-toggleable__control:checked~label.sk-toggleable__label {background-color: #d4ebff;}#sk-container-id-1 input.sk-hidden--visually {border: 0;clip: rect(1px 1px 1px 1px);clip: rect(1px, 1px, 1px, 1px);height: 1px;margin: -1px;overflow: hidden;padding: 0;position: absolute;width: 1px;}#sk-container-id-1 div.sk-estimator {font-family: monospace;background-color: #f0f8ff;border: 1px dotted black;border-radius: 0.25em;box-sizing: border-box;margin-bottom: 0.5em;}#sk-container-id-1 div.sk-estimator:hover {background-color: #d4ebff;}#sk-container-id-1 div.sk-parallel-item::after {content: \"\";width: 100%;border-bottom: 1px solid gray;flex-grow: 1;}#sk-container-id-1 div.sk-label:hover label.sk-toggleable__label {background-color: #d4ebff;}#sk-container-id-1 div.sk-serial::before {content: \"\";position: absolute;border-left: 1px solid gray;box-sizing: border-box;top: 0;bottom: 0;left: 50%;z-index: 0;}#sk-container-id-1 div.sk-serial {display: flex;flex-direction: column;align-items: center;background-color: white;padding-right: 0.2em;padding-left: 0.2em;position: relative;}#sk-container-id-1 div.sk-item {position: relative;z-index: 1;}#sk-container-id-1 div.sk-parallel {display: flex;align-items: stretch;justify-content: center;background-color: white;position: relative;}#sk-container-id-1 div.sk-item::before, #sk-container-id-1 div.sk-parallel-item::before {content: \"\";position: absolute;border-left: 1px solid gray;box-sizing: border-box;top: 0;bottom: 0;left: 50%;z-index: -1;}#sk-container-id-1 div.sk-parallel-item {display: flex;flex-direction: column;z-index: 1;position: relative;background-color: white;}#sk-container-id-1 div.sk-parallel-item:first-child::after {align-self: flex-end;width: 50%;}#sk-container-id-1 div.sk-parallel-item:last-child::after {align-self: flex-start;width: 50%;}#sk-container-id-1 div.sk-parallel-item:only-child::after {width: 0;}#sk-container-id-1 div.sk-dashed-wrapped {border: 1px dashed gray;margin: 0 0.4em 0.5em 0.4em;box-sizing: border-box;padding-bottom: 0.4em;background-color: white;}#sk-container-id-1 div.sk-label label {font-family: monospace;font-weight: bold;display: inline-block;line-height: 1.2em;}#sk-container-id-1 div.sk-label-container {text-align: center;}#sk-container-id-1 div.sk-container {/* jupyter's `normalize.less` sets `[hidden] { display: none; }` but bootstrap.min.css set `[hidden] { display: none !important; }` so we also need the `!important` here to be able to override the default hidden behavior on the sphinx rendered scikit-learn.org. See: https://github.com/scikit-learn/scikit-learn/issues/21755 */display: inline-block !important;position: relative;}#sk-container-id-1 div.sk-text-repr-fallback {display: none;}</style><div id=\"sk-container-id-1\" class=\"sk-top-container\"><div class=\"sk-text-repr-fallback\"><pre>Pipeline(steps=[(&#x27;preprocessr&#x27;,\n",
       "                 ColumnTransformer(transformers=[(&#x27;cat&#x27;, OneHotEncoder(),\n",
       "                                                  [&#x27;age_group&#x27;,\n",
       "                                                   &#x27;lifestyle_risk&#x27;,\n",
       "                                                   &#x27;occupation&#x27;, &#x27;city_tier&#x27;]),\n",
       "                                                 (&#x27;num&#x27;, &#x27;passthrough&#x27;,\n",
       "                                                  [&#x27;bmi&#x27;, &#x27;income_lpa&#x27;])])),\n",
       "                (&#x27;classifier&#x27;, RandomForestClassifier(random_state=42))])</pre><b>In a Jupyter environment, please rerun this cell to show the HTML representation or trust the notebook. <br />On GitHub, the HTML representation is unable to render, please try loading this page with nbviewer.org.</b></div><div class=\"sk-container\" hidden><div class=\"sk-item sk-dashed-wrapped\"><div class=\"sk-label-container\"><div class=\"sk-label sk-toggleable\"><input class=\"sk-toggleable__control sk-hidden--visually\" id=\"sk-estimator-id-1\" type=\"checkbox\" ><label for=\"sk-estimator-id-1\" class=\"sk-toggleable__label sk-toggleable__label-arrow\">Pipeline</label><div class=\"sk-toggleable__content\"><pre>Pipeline(steps=[(&#x27;preprocessr&#x27;,\n",
       "                 ColumnTransformer(transformers=[(&#x27;cat&#x27;, OneHotEncoder(),\n",
       "                                                  [&#x27;age_group&#x27;,\n",
       "                                                   &#x27;lifestyle_risk&#x27;,\n",
       "                                                   &#x27;occupation&#x27;, &#x27;city_tier&#x27;]),\n",
       "                                                 (&#x27;num&#x27;, &#x27;passthrough&#x27;,\n",
       "                                                  [&#x27;bmi&#x27;, &#x27;income_lpa&#x27;])])),\n",
       "                (&#x27;classifier&#x27;, RandomForestClassifier(random_state=42))])</pre></div></div></div><div class=\"sk-serial\"><div class=\"sk-item sk-dashed-wrapped\"><div class=\"sk-label-container\"><div class=\"sk-label sk-toggleable\"><input class=\"sk-toggleable__control sk-hidden--visually\" id=\"sk-estimator-id-2\" type=\"checkbox\" ><label for=\"sk-estimator-id-2\" class=\"sk-toggleable__label sk-toggleable__label-arrow\">preprocessr: ColumnTransformer</label><div class=\"sk-toggleable__content\"><pre>ColumnTransformer(transformers=[(&#x27;cat&#x27;, OneHotEncoder(),\n",
       "                                 [&#x27;age_group&#x27;, &#x27;lifestyle_risk&#x27;, &#x27;occupation&#x27;,\n",
       "                                  &#x27;city_tier&#x27;]),\n",
       "                                (&#x27;num&#x27;, &#x27;passthrough&#x27;, [&#x27;bmi&#x27;, &#x27;income_lpa&#x27;])])</pre></div></div></div><div class=\"sk-parallel\"><div class=\"sk-parallel-item\"><div class=\"sk-item\"><div class=\"sk-label-container\"><div class=\"sk-label sk-toggleable\"><input class=\"sk-toggleable__control sk-hidden--visually\" id=\"sk-estimator-id-3\" type=\"checkbox\" ><label for=\"sk-estimator-id-3\" class=\"sk-toggleable__label sk-toggleable__label-arrow\">cat</label><div class=\"sk-toggleable__content\"><pre>[&#x27;age_group&#x27;, &#x27;lifestyle_risk&#x27;, &#x27;occupation&#x27;, &#x27;city_tier&#x27;]</pre></div></div></div><div class=\"sk-serial\"><div class=\"sk-item\"><div class=\"sk-estimator sk-toggleable\"><input class=\"sk-toggleable__control sk-hidden--visually\" id=\"sk-estimator-id-4\" type=\"checkbox\" ><label for=\"sk-estimator-id-4\" class=\"sk-toggleable__label sk-toggleable__label-arrow\">OneHotEncoder</label><div class=\"sk-toggleable__content\"><pre>OneHotEncoder()</pre></div></div></div></div></div></div><div class=\"sk-parallel-item\"><div class=\"sk-item\"><div class=\"sk-label-container\"><div class=\"sk-label sk-toggleable\"><input class=\"sk-toggleable__control sk-hidden--visually\" id=\"sk-estimator-id-5\" type=\"checkbox\" ><label for=\"sk-estimator-id-5\" class=\"sk-toggleable__label sk-toggleable__label-arrow\">num</label><div class=\"sk-toggleable__content\"><pre>[&#x27;bmi&#x27;, &#x27;income_lpa&#x27;]</pre></div></div></div><div class=\"sk-serial\"><div class=\"sk-item\"><div class=\"sk-estimator sk-toggleable\"><input class=\"sk-toggleable__control sk-hidden--visually\" id=\"sk-estimator-id-6\" type=\"checkbox\" ><label for=\"sk-estimator-id-6\" class=\"sk-toggleable__label sk-toggleable__label-arrow\">passthrough</label><div class=\"sk-toggleable__content\"><pre>passthrough</pre></div></div></div></div></div></div></div></div><div class=\"sk-item\"><div class=\"sk-estimator sk-toggleable\"><input class=\"sk-toggleable__control sk-hidden--visually\" id=\"sk-estimator-id-7\" type=\"checkbox\" ><label for=\"sk-estimator-id-7\" class=\"sk-toggleable__label sk-toggleable__label-arrow\">RandomForestClassifier</label><div class=\"sk-toggleable__content\"><pre>RandomForestClassifier(random_state=42)</pre></div></div></div></div></div></div></div>"
      ],
      "text/plain": [
       "Pipeline(steps=[('preprocessr',\n",
       "                 ColumnTransformer(transformers=[('cat', OneHotEncoder(),\n",
       "                                                  ['age_group',\n",
       "                                                   'lifestyle_risk',\n",
       "                                                   'occupation', 'city_tier']),\n",
       "                                                 ('num', 'passthrough',\n",
       "                                                  ['bmi', 'income_lpa'])])),\n",
       "                ('classifier', RandomForestClassifier(random_state=42))])"
      ]
     },
     "execution_count": 79,
     "metadata": {},
     "output_type": "execute_result"
    }
   ],
   "source": [
    "# Split data Train model \n",
    "X_train,X_test, y_train, y_test = train_test_split(X, y, test_size=0.2, random_state=1)\n",
    "pipeline.fit(X_train, y_train)"
   ]
  },
  {
   "cell_type": "code",
   "execution_count": 81,
   "id": "f0f166d1",
   "metadata": {},
   "outputs": [
    {
     "data": {
      "text/html": [
       "<style>#sk-container-id-2 {color: black;}#sk-container-id-2 pre{padding: 0;}#sk-container-id-2 div.sk-toggleable {background-color: white;}#sk-container-id-2 label.sk-toggleable__label {cursor: pointer;display: block;width: 100%;margin-bottom: 0;padding: 0.3em;box-sizing: border-box;text-align: center;}#sk-container-id-2 label.sk-toggleable__label-arrow:before {content: \"▸\";float: left;margin-right: 0.25em;color: #696969;}#sk-container-id-2 label.sk-toggleable__label-arrow:hover:before {color: black;}#sk-container-id-2 div.sk-estimator:hover label.sk-toggleable__label-arrow:before {color: black;}#sk-container-id-2 div.sk-toggleable__content {max-height: 0;max-width: 0;overflow: hidden;text-align: left;background-color: #f0f8ff;}#sk-container-id-2 div.sk-toggleable__content pre {margin: 0.2em;color: black;border-radius: 0.25em;background-color: #f0f8ff;}#sk-container-id-2 input.sk-toggleable__control:checked~div.sk-toggleable__content {max-height: 200px;max-width: 100%;overflow: auto;}#sk-container-id-2 input.sk-toggleable__control:checked~label.sk-toggleable__label-arrow:before {content: \"▾\";}#sk-container-id-2 div.sk-estimator input.sk-toggleable__control:checked~label.sk-toggleable__label {background-color: #d4ebff;}#sk-container-id-2 div.sk-label input.sk-toggleable__control:checked~label.sk-toggleable__label {background-color: #d4ebff;}#sk-container-id-2 input.sk-hidden--visually {border: 0;clip: rect(1px 1px 1px 1px);clip: rect(1px, 1px, 1px, 1px);height: 1px;margin: -1px;overflow: hidden;padding: 0;position: absolute;width: 1px;}#sk-container-id-2 div.sk-estimator {font-family: monospace;background-color: #f0f8ff;border: 1px dotted black;border-radius: 0.25em;box-sizing: border-box;margin-bottom: 0.5em;}#sk-container-id-2 div.sk-estimator:hover {background-color: #d4ebff;}#sk-container-id-2 div.sk-parallel-item::after {content: \"\";width: 100%;border-bottom: 1px solid gray;flex-grow: 1;}#sk-container-id-2 div.sk-label:hover label.sk-toggleable__label {background-color: #d4ebff;}#sk-container-id-2 div.sk-serial::before {content: \"\";position: absolute;border-left: 1px solid gray;box-sizing: border-box;top: 0;bottom: 0;left: 50%;z-index: 0;}#sk-container-id-2 div.sk-serial {display: flex;flex-direction: column;align-items: center;background-color: white;padding-right: 0.2em;padding-left: 0.2em;position: relative;}#sk-container-id-2 div.sk-item {position: relative;z-index: 1;}#sk-container-id-2 div.sk-parallel {display: flex;align-items: stretch;justify-content: center;background-color: white;position: relative;}#sk-container-id-2 div.sk-item::before, #sk-container-id-2 div.sk-parallel-item::before {content: \"\";position: absolute;border-left: 1px solid gray;box-sizing: border-box;top: 0;bottom: 0;left: 50%;z-index: -1;}#sk-container-id-2 div.sk-parallel-item {display: flex;flex-direction: column;z-index: 1;position: relative;background-color: white;}#sk-container-id-2 div.sk-parallel-item:first-child::after {align-self: flex-end;width: 50%;}#sk-container-id-2 div.sk-parallel-item:last-child::after {align-self: flex-start;width: 50%;}#sk-container-id-2 div.sk-parallel-item:only-child::after {width: 0;}#sk-container-id-2 div.sk-dashed-wrapped {border: 1px dashed gray;margin: 0 0.4em 0.5em 0.4em;box-sizing: border-box;padding-bottom: 0.4em;background-color: white;}#sk-container-id-2 div.sk-label label {font-family: monospace;font-weight: bold;display: inline-block;line-height: 1.2em;}#sk-container-id-2 div.sk-label-container {text-align: center;}#sk-container-id-2 div.sk-container {/* jupyter's `normalize.less` sets `[hidden] { display: none; }` but bootstrap.min.css set `[hidden] { display: none !important; }` so we also need the `!important` here to be able to override the default hidden behavior on the sphinx rendered scikit-learn.org. See: https://github.com/scikit-learn/scikit-learn/issues/21755 */display: inline-block !important;position: relative;}#sk-container-id-2 div.sk-text-repr-fallback {display: none;}</style><div id=\"sk-container-id-2\" class=\"sk-top-container\"><div class=\"sk-text-repr-fallback\"><pre>Pipeline(steps=[(&#x27;preprocessor&#x27;,\n",
       "                 ColumnTransformer(transformers=[(&#x27;cat&#x27;, OneHotEncoder(),\n",
       "                                                  [&#x27;age_group&#x27;,\n",
       "                                                   &#x27;lifestyle_risk&#x27;,\n",
       "                                                   &#x27;occupation&#x27;, &#x27;city_tier&#x27;]),\n",
       "                                                 (&#x27;num&#x27;, &#x27;passthrough&#x27;,\n",
       "                                                  [&#x27;bmi&#x27;, &#x27;income_lpa&#x27;])])),\n",
       "                (&#x27;classifier&#x27;, RandomForestClassifier(random_state=42))])</pre><b>In a Jupyter environment, please rerun this cell to show the HTML representation or trust the notebook. <br />On GitHub, the HTML representation is unable to render, please try loading this page with nbviewer.org.</b></div><div class=\"sk-container\" hidden><div class=\"sk-item sk-dashed-wrapped\"><div class=\"sk-label-container\"><div class=\"sk-label sk-toggleable\"><input class=\"sk-toggleable__control sk-hidden--visually\" id=\"sk-estimator-id-8\" type=\"checkbox\" ><label for=\"sk-estimator-id-8\" class=\"sk-toggleable__label sk-toggleable__label-arrow\">Pipeline</label><div class=\"sk-toggleable__content\"><pre>Pipeline(steps=[(&#x27;preprocessor&#x27;,\n",
       "                 ColumnTransformer(transformers=[(&#x27;cat&#x27;, OneHotEncoder(),\n",
       "                                                  [&#x27;age_group&#x27;,\n",
       "                                                   &#x27;lifestyle_risk&#x27;,\n",
       "                                                   &#x27;occupation&#x27;, &#x27;city_tier&#x27;]),\n",
       "                                                 (&#x27;num&#x27;, &#x27;passthrough&#x27;,\n",
       "                                                  [&#x27;bmi&#x27;, &#x27;income_lpa&#x27;])])),\n",
       "                (&#x27;classifier&#x27;, RandomForestClassifier(random_state=42))])</pre></div></div></div><div class=\"sk-serial\"><div class=\"sk-item sk-dashed-wrapped\"><div class=\"sk-label-container\"><div class=\"sk-label sk-toggleable\"><input class=\"sk-toggleable__control sk-hidden--visually\" id=\"sk-estimator-id-9\" type=\"checkbox\" ><label for=\"sk-estimator-id-9\" class=\"sk-toggleable__label sk-toggleable__label-arrow\">preprocessor: ColumnTransformer</label><div class=\"sk-toggleable__content\"><pre>ColumnTransformer(transformers=[(&#x27;cat&#x27;, OneHotEncoder(),\n",
       "                                 [&#x27;age_group&#x27;, &#x27;lifestyle_risk&#x27;, &#x27;occupation&#x27;,\n",
       "                                  &#x27;city_tier&#x27;]),\n",
       "                                (&#x27;num&#x27;, &#x27;passthrough&#x27;, [&#x27;bmi&#x27;, &#x27;income_lpa&#x27;])])</pre></div></div></div><div class=\"sk-parallel\"><div class=\"sk-parallel-item\"><div class=\"sk-item\"><div class=\"sk-label-container\"><div class=\"sk-label sk-toggleable\"><input class=\"sk-toggleable__control sk-hidden--visually\" id=\"sk-estimator-id-10\" type=\"checkbox\" ><label for=\"sk-estimator-id-10\" class=\"sk-toggleable__label sk-toggleable__label-arrow\">cat</label><div class=\"sk-toggleable__content\"><pre>[&#x27;age_group&#x27;, &#x27;lifestyle_risk&#x27;, &#x27;occupation&#x27;, &#x27;city_tier&#x27;]</pre></div></div></div><div class=\"sk-serial\"><div class=\"sk-item\"><div class=\"sk-estimator sk-toggleable\"><input class=\"sk-toggleable__control sk-hidden--visually\" id=\"sk-estimator-id-11\" type=\"checkbox\" ><label for=\"sk-estimator-id-11\" class=\"sk-toggleable__label sk-toggleable__label-arrow\">OneHotEncoder</label><div class=\"sk-toggleable__content\"><pre>OneHotEncoder()</pre></div></div></div></div></div></div><div class=\"sk-parallel-item\"><div class=\"sk-item\"><div class=\"sk-label-container\"><div class=\"sk-label sk-toggleable\"><input class=\"sk-toggleable__control sk-hidden--visually\" id=\"sk-estimator-id-12\" type=\"checkbox\" ><label for=\"sk-estimator-id-12\" class=\"sk-toggleable__label sk-toggleable__label-arrow\">num</label><div class=\"sk-toggleable__content\"><pre>[&#x27;bmi&#x27;, &#x27;income_lpa&#x27;]</pre></div></div></div><div class=\"sk-serial\"><div class=\"sk-item\"><div class=\"sk-estimator sk-toggleable\"><input class=\"sk-toggleable__control sk-hidden--visually\" id=\"sk-estimator-id-13\" type=\"checkbox\" ><label for=\"sk-estimator-id-13\" class=\"sk-toggleable__label sk-toggleable__label-arrow\">passthrough</label><div class=\"sk-toggleable__content\"><pre>passthrough</pre></div></div></div></div></div></div></div></div><div class=\"sk-item\"><div class=\"sk-estimator sk-toggleable\"><input class=\"sk-toggleable__control sk-hidden--visually\" id=\"sk-estimator-id-14\" type=\"checkbox\" ><label for=\"sk-estimator-id-14\" class=\"sk-toggleable__label sk-toggleable__label-arrow\">RandomForestClassifier</label><div class=\"sk-toggleable__content\"><pre>RandomForestClassifier(random_state=42)</pre></div></div></div></div></div></div></div>"
      ],
      "text/plain": [
       "Pipeline(steps=[('preprocessor',\n",
       "                 ColumnTransformer(transformers=[('cat', OneHotEncoder(),\n",
       "                                                  ['age_group',\n",
       "                                                   'lifestyle_risk',\n",
       "                                                   'occupation', 'city_tier']),\n",
       "                                                 ('num', 'passthrough',\n",
       "                                                  ['bmi', 'income_lpa'])])),\n",
       "                ('classifier', RandomForestClassifier(random_state=42))])"
      ]
     },
     "execution_count": 81,
     "metadata": {},
     "output_type": "execute_result"
    }
   ],
   "source": [
    "Pipeline(steps=[('preprocessor',ColumnTransformer(transformers=[('cat', OneHotEncoder(),\n",
    "                                                  ['age_group','lifestyle_risk','occupation', 'city_tier']),\n",
    "                                                 ('num', 'passthrough',\n",
    "                                                  ['bmi', 'income_lpa'])])),\n",
    "                ('classifier', RandomForestClassifier(random_state=42))])"
   ]
  },
  {
   "cell_type": "code",
   "execution_count": 82,
   "id": "0d1de914",
   "metadata": {},
   "outputs": [
    {
     "data": {
      "text/plain": [
       "0.9"
      ]
     },
     "execution_count": 82,
     "metadata": {},
     "output_type": "execute_result"
    }
   ],
   "source": [
    "# Predict and evaluate\n",
    "y_pred = pipeline.predict(X_test)\n",
    "accuracy_score(y_test, y_pred)"
   ]
  },
  {
   "cell_type": "code",
   "execution_count": 83,
   "id": "c2d19f56",
   "metadata": {},
   "outputs": [
    {
     "data": {
      "text/html": [
       "<div>\n",
       "<style scoped>\n",
       "    .dataframe tbody tr th:only-of-type {\n",
       "        vertical-align: middle;\n",
       "    }\n",
       "\n",
       "    .dataframe tbody tr th {\n",
       "        vertical-align: top;\n",
       "    }\n",
       "\n",
       "    .dataframe thead th {\n",
       "        text-align: right;\n",
       "    }\n",
       "</style>\n",
       "<table border=\"1\" class=\"dataframe\">\n",
       "  <thead>\n",
       "    <tr style=\"text-align: right;\">\n",
       "      <th></th>\n",
       "      <th>bmi</th>\n",
       "      <th>age_group</th>\n",
       "      <th>lifestyle_risk</th>\n",
       "      <th>city_tier</th>\n",
       "      <th>income_lpa</th>\n",
       "      <th>occupation</th>\n",
       "    </tr>\n",
       "  </thead>\n",
       "  <tbody>\n",
       "    <tr>\n",
       "      <th>81</th>\n",
       "      <td>31.866055</td>\n",
       "      <td>adult</td>\n",
       "      <td>high</td>\n",
       "      <td>2</td>\n",
       "      <td>22.19</td>\n",
       "      <td>freelancer</td>\n",
       "    </tr>\n",
       "    <tr>\n",
       "      <th>10</th>\n",
       "      <td>22.949982</td>\n",
       "      <td>adult</td>\n",
       "      <td>medium</td>\n",
       "      <td>1</td>\n",
       "      <td>32.78</td>\n",
       "      <td>business_owner</td>\n",
       "    </tr>\n",
       "    <tr>\n",
       "      <th>82</th>\n",
       "      <td>17.874812</td>\n",
       "      <td>adult</td>\n",
       "      <td>low</td>\n",
       "      <td>1</td>\n",
       "      <td>12.96</td>\n",
       "      <td>unemployed</td>\n",
       "    </tr>\n",
       "    <tr>\n",
       "      <th>39</th>\n",
       "      <td>35.643424</td>\n",
       "      <td>middle_aged</td>\n",
       "      <td>high</td>\n",
       "      <td>1</td>\n",
       "      <td>11.99</td>\n",
       "      <td>unemployed</td>\n",
       "    </tr>\n",
       "    <tr>\n",
       "      <th>36</th>\n",
       "      <td>21.713266</td>\n",
       "      <td>senior</td>\n",
       "      <td>low</td>\n",
       "      <td>1</td>\n",
       "      <td>0.53</td>\n",
       "      <td>retired</td>\n",
       "    </tr>\n",
       "  </tbody>\n",
       "</table>\n",
       "</div>"
      ],
      "text/plain": [
       "          bmi    age_group lifestyle_risk  city_tier  income_lpa  \\\n",
       "81  31.866055        adult           high          2       22.19   \n",
       "10  22.949982        adult         medium          1       32.78   \n",
       "82  17.874812        adult            low          1       12.96   \n",
       "39  35.643424  middle_aged           high          1       11.99   \n",
       "36  21.713266       senior            low          1        0.53   \n",
       "\n",
       "        occupation  \n",
       "81      freelancer  \n",
       "10  business_owner  \n",
       "82      unemployed  \n",
       "39      unemployed  \n",
       "36         retired  "
      ]
     },
     "execution_count": 83,
     "metadata": {},
     "output_type": "execute_result"
    }
   ],
   "source": [
    "X_test.sample(5)"
   ]
  },
  {
   "cell_type": "code",
   "execution_count": 84,
   "id": "2f9871c5",
   "metadata": {},
   "outputs": [],
   "source": [
    "\n",
    "import pickle\n",
    "\n",
    "# Save the trained pipeline using pickle\n",
    "pickle_model_path = \"model.pkl\"\n",
    "with open(pickle_model_path, \"wb\") as f:\n",
    "    pickle.dump(pipeline, f)\n"
   ]
  },
  {
   "cell_type": "code",
   "execution_count": null,
   "id": "ecfc63d6",
   "metadata": {},
   "outputs": [],
   "source": []
  }
 ],
 "metadata": {
  "kernelspec": {
   "display_name": "base",
   "language": "python",
   "name": "python3"
  },
  "language_info": {
   "codemirror_mode": {
    "name": "ipython",
    "version": 3
   },
   "file_extension": ".py",
   "mimetype": "text/x-python",
   "name": "python",
   "nbconvert_exporter": "python",
   "pygments_lexer": "ipython3",
   "version": "3.12.4"
  }
 },
 "nbformat": 4,
 "nbformat_minor": 5
}
